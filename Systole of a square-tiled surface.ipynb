{
 "cells": [
  {
   "cell_type": "markdown",
   "metadata": {},
   "source": [
    "## Implementing an algorithm for finding the systole of a STS"
   ]
  },
  {
   "cell_type": "code",
   "execution_count": 23,
   "metadata": {},
   "outputs": [],
   "source": [
    "import os\n",
    "import numpy as np\n",
    "\n",
    "from surface_dynamics.all import *\n",
    "from matplotlib import pyplot as plt\n",
    "\n",
    "import collections \n",
    "import time\n",
    "\n"
   ]
  },
  {
   "cell_type": "markdown",
   "metadata": {},
   "source": [
    "### First, we need a way to act on STSs using a given matrix in $SL_2(\\mathbb{Z})$.\n",
    "\n",
    "### To that end, we first code an algorithm to decompose a given matrix into the standard generators $S = \\begin{bmatrix} 0 & - 1\\\\ 1 & 0 \\end{bmatrix}, L = \\begin{bmatrix}1 & 1 \\\\ 0 & 1 \\end{bmatrix}$"
   ]
  },
  {
   "cell_type": "code",
   "execution_count": 15,
   "metadata": {},
   "outputs": [],
   "source": [
    "\n",
    "\n",
    "\n",
    "D = OrigamiDatabase()\n",
    "\n",
    "def matrix_in_gens_temp(m): #expressing a matrix in terms of the rotation and the shear.\n",
    "    s = matrix([[0,-1],[1,0]])\n",
    "    l = matrix([[1,1],[0,1]])\n",
    "    moves = []\n",
    "    while abs(m[1][0])>0:\n",
    "        if abs(m[0][0]) < abs(m[1][0]):\n",
    "            m = s*m\n",
    "            #print m\n",
    "            moves.append(s)\n",
    "        if Integer(m[1][0]) != 0:\n",
    "            n,r = divmod(Integer(m[0][0]),Integer(m[1][0]))\n",
    "            #print n\n",
    "            #print r\n",
    "            if r >=0:\n",
    "                #print m\n",
    "                m = l^(-n)*m\n",
    "                moves.append(l^(-n))\n",
    "            elif r < 0:\n",
    "                n = -divmod(Integer(-m[0][0]),Integer(m[1][0]))[0]\n",
    "                #print n\n",
    "                r = -divmod(Integer(-m[0][0]),Integer(m[1][0]))[1]\n",
    "                #print r\n",
    "                m = l^(-n)*m\n",
    "                moves.append(l^(-n))\n",
    "    if m[0][0] < 0:\n",
    "        moves.append(s)\n",
    "        moves.append(s)\n",
    "        m=s^2*m\n",
    "        return moves, m\n",
    "    else:\n",
    "        return moves, m\n",
    "    \n",
    "def matrix_in_gens(g):\n",
    "    mat, m = matrix_in_gens_temp(g)\n",
    "    word = []\n",
    "    for n in mat:\n",
    "        word.append(n^(-1))\n",
    "    word.append(m)\n",
    "    return word\n",
    "\n",
    "def sl2zmatrix_with_1stcol(vector):  # This code gets us an $SL_2(\\mathbb{Z})$ matrix by completing an input first column.\n",
    "    d, u, v = xgcd(vector[0],vector[1])\n",
    "    M = matrix([[vector[0],-v],[vector[1], u]])\n",
    "    return M\n",
    "\n",
    "\n",
    "\n"
   ]
  },
  {
   "cell_type": "markdown",
   "metadata": {},
   "source": [
    "### Next, using a representation of the matrix in terms of the standard generators, we can act on a given STS in the by the following:"
   ]
  },
  {
   "cell_type": "code",
   "execution_count": 16,
   "metadata": {},
   "outputs": [],
   "source": [
    "def ln_on_surf(shear_matrix, origami):\n",
    "    n = shear_matrix[0][1]\n",
    "    new_o = origami\n",
    "    if n > 0:\n",
    "        for i in range(abs(n)): \n",
    "            new_o = Origami(new_o.r(), new_o.r().inverse()*new_o.u())\n",
    "    elif n < 0:\n",
    "        for i in range(abs(n)):\n",
    "            new_o = Origami(new_o.r(),new_o.r()*new_o.u())\n",
    "    return (new_o, n)\n",
    "\n",
    "def s2inv_on_surf(origami):\n",
    "    return Origami(origami.u(), origami.r_inv())\n",
    "\n",
    "def s_on_surf(origami):\n",
    "    return Origami(origami.u_inv(), origami.r())\n",
    "\n",
    "def matrix_on_surf(matrix, origami):\n",
    "    mat_in_words = matrix_in_gens(matrix)\n",
    "    trans_steps = []\n",
    "    new_o = origami\n",
    "    for mat in mat_in_words[::-1]:\n",
    "        if mat[1][0] == 0:\n",
    "            if mat[0][1] != 0:\n",
    "                new_o = ln_on_surf(mat, new_o)[0]\n",
    "                trans_steps.append(mat[0][1])\n",
    "                \n",
    "            elif mat[0][1] == 0:\n",
    "                if mat[0][0] == -1:\n",
    "                    for i in range(2):\n",
    "                        new_o = s2inv_on_surf(new_o)\n",
    "                        trans_steps.append('s_inv')\n",
    "        else:\n",
    "            new_o = s2inv_on_surf(new_o)\n",
    "            trans_steps.append('s_inv')\n",
    "    return (new_o, trans_steps)"
   ]
  },
  {
   "cell_type": "markdown",
   "metadata": {},
   "source": [
    "### For example, given a square-tiled surface defined by permutations $\\sigma = (1, 2)$ and $\\tau = (1,3)$, and a matrix in $A = \\begin{bmatrix} 19 & -5 \\\\ 23 & -6 \\end{bmatrix}$, we can act on the surface using matrix_on_surf"
   ]
  },
  {
   "cell_type": "code",
   "execution_count": 17,
   "metadata": {},
   "outputs": [],
   "source": [
    "A = sl2zmatrix_with_1stcol([19,23])"
   ]
  },
  {
   "cell_type": "code",
   "execution_count": 18,
   "metadata": {},
   "outputs": [
    {
     "data": {
      "text/plain": [
       "[19 -5]\n",
       "[23 -6]"
      ]
     },
     "execution_count": 18,
     "metadata": {},
     "output_type": "execute_result"
    }
   ],
   "source": [
    "A"
   ]
  },
  {
   "cell_type": "code",
   "execution_count": 19,
   "metadata": {},
   "outputs": [],
   "source": [
    "O = Origami('(1,2)','(1,3)')"
   ]
  },
  {
   "cell_type": "code",
   "execution_count": 20,
   "metadata": {},
   "outputs": [
    {
     "data": {
      "image/png": "[encoded data removed]",
      "text/plain": [
       "Graphics object consisting of 43 graphics primitives"
      ]
     },
     "metadata": {},
     "output_type": "display_data"
    }
   ],
   "source": [
    "O.show()"
   ]
  },
  {
   "cell_type": "code",
   "execution_count": 21,
   "metadata": {},
   "outputs": [],
   "source": [
    "P = matrix_on_surf(A, O)"
   ]
  },
  {
   "cell_type": "code",
   "execution_count": 22,
   "metadata": {},
   "outputs": [
    {
     "data": {
      "image/png": "[encoded data removed]",
      "text/plain": [
       "Graphics object consisting of 43 graphics primitives"
      ]
     },
     "metadata": {},
     "output_type": "display_data"
    }
   ],
   "source": [
    "P[0].show()"
   ]
  },
  {
   "cell_type": "code",
   "execution_count": null,
   "metadata": {},
   "outputs": [],
   "source": []
  },
  {
   "cell_type": "markdown",
   "metadata": {},
   "source": [
    "### The following code now computes the length of systole of a given STS."
   ]
  },
  {
   "cell_type": "code",
   "execution_count": 26,
   "metadata": {},
   "outputs": [],
   "source": [
    "def naive_upper_bound_sys(O): \n",
    "    #Given an origami, look at the cycle decompositions of the two permutations. Return the length of the shortest cycle \n",
    "    return min(min(O.r().cycle_type()), min(O.u().cycle_type()))\n",
    "    \n",
    "def primitive_vectors_lessthaneq_L(L):\n",
    "    vectors = [[0,1],[1,0],[-1,0]]\n",
    "    for i in range(1, L+1):\n",
    "        j = 1\n",
    "        while (i^2+j^2) <= L^2 and gcd(i, j) == 1:\n",
    "            vectors.append([i, j])\n",
    "            vectors.append([-i, j])\n",
    "            j += 1\n",
    "    return vectors\n",
    "\n",
    "def support(permutation):\n",
    "    N = permutation.parent().degree()\n",
    "    L = []\n",
    "    for i in range(1, N+1):\n",
    "        if permutation(i) != i:\n",
    "            L.append(i)    \n",
    "    return L   \n",
    "\n",
    "def comm(O_M):\n",
    "    return O_M.u_inv()*O_M.r_inv()*O_M.u()*O_M.r()\n",
    "        \n",
    "def assoc_vertex_from_sqlabel(list_of_cycles, i):\n",
    "    for cyc in list_of_cycles:\n",
    "        if i in support(cyc):\n",
    "            return cyc\n",
    "        \n",
    "\n",
    "        \n",
    "\n",
    "    \n",
    "    \n",
    "    \n",
    "def gamma_v(O, v):\n",
    "    M = sl2zmatrix_with_1stcol(v).inverse()\n",
    "    O_M, trans_list = matrix_on_surf(M, O)\n",
    "    c = comm(O_M)\n",
    "    L = collections.deque(support(c))\n",
    "    cycles = c.cycles() #these should be the vertices. \n",
    "    edges_weights = []\n",
    "    \n",
    "    while len(L) > 0:\n",
    "        i = L[0]\n",
    "        \n",
    "        \n",
    "        k = 1\n",
    "        while (O_M.r()^k)(i) not in L:\n",
    "          \n",
    "            k += 1\n",
    "        j = (O_M.r()^k)(i) \n",
    "    \n",
    "        L.popleft()\n",
    "        edges_weights.append([assoc_vertex(cycles, i), assoc_vertex(cycles, j), k*np.linalg.norm(v)])\n",
    "        \n",
    "   \n",
    "    return Graph([cycles, edges_weights],multiedges=True, loops=True, weighted=True)\n",
    "\n",
    "\n",
    "###########################################################\n",
    "def associated_orig_singularity(orig_origami, transformed_origami, square_label, trans_steps):\n",
    "    #cycles_orig = comm(orig_origami).cycles()\n",
    "    cycles_trans = comm(transformed_origami).cycles()\n",
    "    temp_sing = assoc_vertex_from_sqlabel(cycles_trans, square_label)\n",
    "    #print temp_sing\n",
    "    temp_origami = transformed_origami\n",
    "    for step in trans_steps[::-1]:\n",
    "        if step == 's_inv':\n",
    "            \n",
    "            temp_origami = s_on_surf(temp_origami)\n",
    "            temp_r = temp_origami.r()\n",
    "            temp_r_inv = temp_origami.r_inv()\n",
    "            temp_sing = temp_r_inv*temp_sing*temp_r\n",
    "            #print temp_sing\n",
    "        else:\n",
    "            temp_origami = ln_on_surf(matrix([[1,-step],[0,1]]), temp_origami)[0]\n",
    "    return temp_sing\n",
    "    \n",
    "def associated_orig_singularity2(orig_origami, transformed_origami, square_label, trans_steps):\n",
    "    #cycles_orig = comm(orig_origami).cycles()\n",
    "    cycles_trans = comm(transformed_origami).cycles()\n",
    "    temp_sing = assoc_vertex_from_sqlabel(cycles_trans, square_label)\n",
    "    temp_origami = transformed_origami\n",
    "    trans_steps.pop()\n",
    "    for step in trans_steps:\n",
    "        temp_origami = temp_origami.horizontal_twist(-step)\n",
    "        temp_origami = s_inv_on_surf(temp_origami)\n",
    "        temp_r = temp_origami.r()\n",
    "        temp_r_inv = temp_origami.r_inv()\n",
    "        temp_sing = temp_r_inv*temp_sing*temp_r\n",
    "    return temp_sing\n",
    "    \n",
    "        \n",
    "\n",
    "\n",
    "def Gamma_v(O, v):\n",
    "    M = sl2zmatrix_with_1stcol(v).inverse()\n",
    "    O_M, trans_steps = matrix_on_surf(M, O)\n",
    "    c = comm(O_M)\n",
    "    L = collections.deque(support(c))\n",
    "    cycles_orig = comm(O).cycles() #these should be the vertices. \n",
    "    #cycles_trans = c.cycles()\n",
    "    edges_weights = []\n",
    "    \n",
    "    while len(L) > 0:\n",
    "        i = L[0]\n",
    "        \n",
    "        \n",
    "        k = 1\n",
    "        while (O_M.r()^k)(i) not in L:\n",
    "          \n",
    "            k += 1\n",
    "           \n",
    "        \n",
    "        j = (O_M.r()^k)(i) \n",
    "        \n",
    "        L.popleft()\n",
    "        #edges_weights.append([assoc_vertex(cycles_trans, i), assoc_vertex(cycles_trans, j), k*np.linalg.norm(v)])\n",
    "        edges_weights.append([associated_orig_singularity(O, O_M, i, trans_steps), associated_orig_singularity(O, O_M, j, trans_steps), k*np.linalg.norm(v)])\n",
    "        \n",
    "    \n",
    "    \n",
    "    return Graph([cycles_orig, edges_weights],multiedges=True, loops=True, weighted=True)\n",
    "\n",
    "\n",
    "\n",
    "def Gamma(O):\n",
    "    S = primitive_vectors_lessthaneq_L(naive_upper_bound_sys(O))\n",
    "    edges = []\n",
    "    for v in S:\n",
    "        G_v = Gamma_v(O, v)\n",
    "        edges += G_v.edges()\n",
    "    vertices = G_v.vertices()\n",
    "    return Graph([vertices, edges], multiedges=True, loops=True, weighted=True)\n",
    "        \n",
    "        \n",
    "def systole_length(O):\n",
    "    G = Gamma(O)\n",
    "    graph_cycles = G.cycle_basis(output='edge')\n",
    "    cycle_lengths = []\n",
    "    for cyc in graph_cycles:\n",
    "        length = 0\n",
    "        for e in cyc:\n",
    "            length += e[2]\n",
    "        cycle_lengths.append(length)\n",
    "    return min(cycle_lengths)    "
   ]
  },
  {
   "cell_type": "markdown",
   "metadata": {},
   "source": [
    "### For instance"
   ]
  },
  {
   "cell_type": "code",
   "execution_count": 29,
   "metadata": {},
   "outputs": [
    {
     "data": {
      "text/plain": [
       "1.0"
      ]
     },
     "execution_count": 29,
     "metadata": {},
     "output_type": "execute_result"
    }
   ],
   "source": [
    "systole_length(O)"
   ]
  },
  {
   "cell_type": "code",
   "execution_count": 31,
   "metadata": {},
   "outputs": [
    {
     "data": {
      "text/plain": [
       "1.0"
      ]
     },
     "execution_count": 31,
     "metadata": {},
     "output_type": "execute_result"
    }
   ],
   "source": [
    "systole_length(P[0])"
   ]
  },
  {
   "cell_type": "code",
   "execution_count": 32,
   "metadata": {},
   "outputs": [],
   "source": [
    "Q = Origami('(1,2)(3,4,5,6)','(1,5,6,3)(2,4)')"
   ]
  },
  {
   "cell_type": "code",
   "execution_count": 33,
   "metadata": {},
   "outputs": [
    {
     "data": {
      "image/png": "[encoded data removed]",
      "text/plain": [
       "Graphics object consisting of 62 graphics primitives"
      ]
     },
     "metadata": {},
     "output_type": "display_data"
    }
   ],
   "source": [
    "Q.show()"
   ]
  },
  {
   "cell_type": "code",
   "execution_count": 34,
   "metadata": {},
   "outputs": [
    {
     "data": {
      "text/plain": [
       "1.4142135623730951"
      ]
     },
     "execution_count": 34,
     "metadata": {},
     "output_type": "execute_result"
    }
   ],
   "source": [
    "systole_length(Q)"
   ]
  },
  {
   "cell_type": "code",
   "execution_count": null,
   "metadata": {},
   "outputs": [],
   "source": []
  }
 ],
 "metadata": {
  "kernelspec": {
   "display_name": "SageMath 8.7",
   "language": "",
   "name": "sagemath"
  },
  "language_info": {
   "codemirror_mode": {
    "name": "ipython",
    "version": 2
   },
   "file_extension": ".py",
   "mimetype": "text/x-python",
   "name": "python",
   "nbconvert_exporter": "python",
   "pygments_lexer": "ipython2",
   "version": "2.7.15"
  }
 },
 "nbformat": 4,
 "nbformat_minor": 2
}
